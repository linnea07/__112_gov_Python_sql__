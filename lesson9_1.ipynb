{
 "cells": [
  {
   "cell_type": "code",
   "execution_count": 8,
   "metadata": {},
   "outputs": [
    {
     "name": "stdout",
     "output_type": "stream",
     "text": [
      "B\n"
     ]
    },
    {
     "data": {
      "text/plain": [
       "'B'"
      ]
     },
     "execution_count": 8,
     "metadata": {},
     "output_type": "execute_result"
    }
   ],
   "source": [
    "#建立list實體\n",
    "values = [\"A\",\"B\",\"C\"]\n",
    "values:list[str]=[\"A\",\"B\",\"C\"]\n",
    "print(values[1]) #python函數\n",
    "values[1] #display"
   ]
  },
  {
   "cell_type": "code",
   "execution_count": 16,
   "metadata": {},
   "outputs": [
    {
     "name": "stdout",
     "output_type": "stream",
     "text": [
      "A\n"
     ]
    },
    {
     "data": {
      "text/plain": [
       "'A'"
      ]
     },
     "metadata": {},
     "output_type": "display_data"
    },
    {
     "name": "stdout",
     "output_type": "stream",
     "text": [
      "<class 'str'>\n",
      "<class 'str'>\n",
      "key=name\n",
      "name=A\n",
      "============\n",
      "<class 'str'>\n",
      "key=國文\n",
      "name=40\n",
      "============\n",
      "<class 'str'>\n",
      "key=數學\n",
      "name=40\n",
      "============\n",
      "<class 'str'>\n",
      "key=英文\n",
      "name=40\n",
      "============\n"
     ]
    }
   ],
   "source": [
    "#使用dictionary建立一筆資料\n",
    "#建立dict的實體\n",
    "#any,str=>是hint #弱型別\n",
    "student:dict[any,str] = {\n",
    "    'name':\"A\",\n",
    "    '國文':40,\n",
    "    '數學':40,\n",
    "    '英文':40,\n",
    "}\n",
    "print(student['name'])\n",
    "student['name']\n",
    "display(student['name'])\n",
    "print(type(student['name']))\n",
    "\n",
    "#for 變數 in iterable 變數為區塊變數\n",
    "for key in student:\n",
    "    print(type(key))\n",
    "    print(f'key={key}')#字串插補 format\n",
    "    print(f'name={student[key]}')\n",
    "    print(\"============\")\n"
   ]
  },
  {
   "cell_type": "code",
   "execution_count": 52,
   "metadata": {},
   "outputs": [
    {
     "name": "stdout",
     "output_type": "stream",
     "text": [
      "這個是值=10 0\n",
      "這個是值=20 1\n",
      "這個是值=30 2\n"
     ]
    }
   ],
   "source": [
    "#enumerate 是iterable\n",
    "value:list[int] =[10,20,30]\n",
    "for inx,value in enumerate(value):\n",
    "    print(f'這個是值={value}',inx)"
   ]
  },
  {
   "cell_type": "code",
   "execution_count": 26,
   "metadata": {},
   "outputs": [
    {
     "name": "stdout",
     "output_type": "stream",
     "text": [
      "2\n",
      "3\n",
      "4\n",
      "ddd\n",
      "2\n",
      "4\n",
      "('2', 'ddd')\n",
      "('3', 2)\n",
      "('4', 4)\n"
     ]
    }
   ],
   "source": [
    "#實體method 需要有實體\n",
    "#items()\n",
    "#keys()\n",
    "#values()\n",
    "student:dict ={'2':\"ddd\",'3':2,'4':4}\n",
    "for value in student.keys():\n",
    "    print(value)\n",
    "\n",
    "for value in student.values():\n",
    "    print(value)\n",
    " \n",
    "for value in student.items():\n",
    "    print(value)\n",
    " \n",
    "#內建method 直接使用\n",
    "print()\n",
    "display()"
   ]
  },
  {
   "cell_type": "code",
   "execution_count": 18,
   "metadata": {},
   "outputs": [
    {
     "name": "stdout",
     "output_type": "stream",
     "text": [
      "404\n"
     ]
    }
   ],
   "source": [
    "#tupe的拆解法 tupe是暫時的資料\n",
    "code, error =404,\"沒有網頁發現\"\n",
    "print(code)"
   ]
  },
  {
   "cell_type": "code",
   "execution_count": 51,
   "metadata": {},
   "outputs": [
    {
     "name": "stdout",
     "output_type": "stream",
     "text": [
      "name\n",
      "A\n",
      "key:name,value:A\n",
      "國文\n",
      "78\n",
      "key:國文,value:78\n",
      "數學\n",
      "83\n",
      "key:數學,value:83\n",
      "==================\n",
      "name\n",
      "A\n",
      "key:name,value:A\n",
      "國文\n",
      "78\n",
      "key:國文,value:78\n",
      "數學\n",
      "83\n",
      "key:數學,value:83\n",
      "==================\n"
     ]
    }
   ],
   "source": [
    "#list 中有dict\n",
    "students:list[dict] =[\n",
    "    {'name':'A','國文':78,'數學':83},\n",
    "    {'name':'A','國文':78,'數學':83}\n",
    "]\n",
    "\n",
    "for student in students:\n",
    "    for key,vaule in student.items():\n",
    "        print(key)\n",
    "        print(vaule)\n",
    "        print(f'key:{key},value:{vaule}')\n",
    "    print(\"==================\")\n",
    "\n"
   ]
  },
  {
   "cell_type": "code",
   "execution_count": 54,
   "metadata": {},
   "outputs": [
    {
     "name": "stdout",
     "output_type": "stream",
     "text": [
      "hello\n"
     ]
    }
   ],
   "source": [
    "#自訂function,參數\n",
    "def say_hello():\n",
    "    print(\"hello\")\n",
    "#呼叫function\n",
    "say_hello()"
   ]
  },
  {
   "cell_type": "code",
   "execution_count": 67,
   "metadata": {},
   "outputs": [
    {
     "name": "stdout",
     "output_type": "stream",
     "text": [
      "hello!Kelly\n",
      "hello!kelly2\n"
     ]
    }
   ],
   "source": [
    "def say_hello2(name):\n",
    "    print(f'hello!{name}')\n",
    "\n",
    "#引數名稱的呼叫\n",
    "say_hello2('Kelly')\n",
    "#引數值的呼叫\n",
    "say_hello2(name=\"kelly2\")"
   ]
  },
  {
   "cell_type": "code",
   "execution_count": 69,
   "metadata": {},
   "outputs": [
    {
     "name": "stdout",
     "output_type": "stream",
     "text": [
      "menu白酒\n",
      "menu蛋糕\n",
      "menu牛排\n",
      "menu白酒\n",
      "menu蛋糕\n",
      "menu牛排\n",
      "menu白酒\n",
      "menu蛋糕\n",
      "menu牛排\n"
     ]
    }
   ],
   "source": [
    "def menu(wine,dessert,entree):\n",
    "    print(f'menu{wine}'),\n",
    "    print(f'menu{dessert}'),\n",
    "    print(f'menu{entree}'),\n",
    "\n",
    "#引數值呼叫,必需依照參數的順序\n",
    "menu('白酒','蛋糕','牛排')\n",
    "\n",
    "#引數名稱的呼叫,不需要依順序\n",
    "menu(entree=\"牛排\",dessert='蛋糕',wine='白酒')\n",
    "\n",
    "#混合呼叫\n",
    "#前面引數名稱值\n",
    "#後面數名稱呼叫\n",
    "menu(\"白酒\",dessert=\"蛋糕\",entree=\"牛排\")\n",
    "\n"
   ]
  },
  {
   "cell_type": "code",
   "execution_count": 75,
   "metadata": {},
   "outputs": [
    {
     "data": {
      "text/plain": [
       "{'前酒': '白酒', '主餐': '牛排', '甜點': '蛋糕'}"
      ]
     },
     "execution_count": 75,
     "metadata": {},
     "output_type": "execute_result"
    }
   ],
   "source": [
    "#function傳出的值\n",
    "def menu(wine:str,entree:str,dessert:str)->dict[str,str]:\n",
    "    # print(f'前酒：{wine}')\n",
    "    # print(f'主餐：{entree}')\n",
    "    # print(f'甜點：{dessert}')\n",
    "    return {'前酒':wine,'主餐':entree,'甜點':dessert}\n",
    "\n",
    "my_menu = menu('白酒',dessert=\"蛋糕\",entree=\"牛排\")\n",
    "my_menu #要有容器去接"
   ]
  },
  {
   "cell_type": "code",
   "execution_count": 79,
   "metadata": {},
   "outputs": [
    {
     "name": "stdout",
     "output_type": "stream",
     "text": [
      "{'前酒': '白酒', '主餐': '牛排', '甜點': '蛋糕'}\n",
      "{'前酒': '紅酒', '主餐': '牛排', '甜點': '馬卡龍'}\n"
     ]
    }
   ],
   "source": [
    "#wine=>參數 蛋糕=>引數值\n",
    "def menu(wine:str,dessert:str=\"蛋糕\",entree=\"牛排\")->dict[str,str]:\n",
    "    return {'前酒':wine,'主餐':entree,'甜點':dessert}\n",
    "\n",
    "print(menu('白酒'))\n",
    "print(menu('紅酒',dessert=\"馬卡龍\"))\n"
   ]
  },
  {
   "cell_type": "code",
   "execution_count": 80,
   "metadata": {},
   "outputs": [
    {
     "name": "stdout",
     "output_type": "stream",
     "text": [
      "()\n",
      "('白酒', '紅酒', '黑酒')\n",
      "{'酒1': '白酒', '酒2': '紅酒', '酒3': '葡萄酒'}\n",
      "1-2-3.0-True.\n"
     ]
    }
   ],
   "source": [
    "def menu(*args):\n",
    "    print(args)\n",
    "\n",
    "menu()\n",
    "menu('白酒','紅酒','黑酒')\n",
    "\n",
    "def menu(**Kwargs):\n",
    "    print(Kwargs)\n",
    "menu(酒1=\"白酒\",酒2=\"紅酒\",酒3=\"葡萄酒\")\n",
    "\n",
    "print('1', 2, 3.0, True,sep='-',end='.\\n')\n",
    "    "
   ]
  }
 ],
 "metadata": {
  "kernelspec": {
   "display_name": "myenv",
   "language": "python",
   "name": "python3"
  },
  "language_info": {
   "codemirror_mode": {
    "name": "ipython",
    "version": 3
   },
   "file_extension": ".py",
   "mimetype": "text/x-python",
   "name": "python",
   "nbconvert_exporter": "python",
   "pygments_lexer": "ipython3",
   "version": "3.10.13"
  }
 },
 "nbformat": 4,
 "nbformat_minor": 2
}
