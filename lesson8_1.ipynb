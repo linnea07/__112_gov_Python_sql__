{
 "cells": [
  {
   "cell_type": "code",
   "execution_count": 6,
   "metadata": {},
   "outputs": [
    {
     "name": "stdout",
     "output_type": "stream",
     "text": [
      "國\n",
      "3\n",
      "3\n",
      "3\n"
     ]
    }
   ],
   "source": [
    "name,chinese,math,english = '國',3,3,3\n",
    "\n",
    "print(name);print(chinese);print(math);print(english); "
   ]
  },
  {
   "cell_type": "code",
   "execution_count": 9,
   "metadata": {},
   "outputs": [
    {
     "name": "stdout",
     "output_type": "stream",
     "text": [
      "<class 'str'>\n",
      "<class 'int'>\n",
      "3.0\n",
      "True\n"
     ]
    }
   ],
   "source": [
    "name=\"國\"\n",
    "b=3\n",
    "d=3.0\n",
    "f=True\n",
    "print(type(name));print(type(b));print(d);print(f); \n"
   ]
  },
  {
   "cell_type": "code",
   "execution_count": 11,
   "metadata": {},
   "outputs": [
    {
     "name": "stdout",
     "output_type": "stream",
     "text": [
      "<class 'list'>\n"
     ]
    }
   ],
   "source": [
    "mylist =[1,3,2,4]\n",
    "mylist\n",
    "print(type(mylist))"
   ]
  }
 ],
 "metadata": {
  "kernelspec": {
   "display_name": "Python 3",
   "language": "python",
   "name": "python3"
  },
  "language_info": {
   "codemirror_mode": {
    "name": "ipython",
    "version": 3
   },
   "file_extension": ".py",
   "mimetype": "text/x-python",
   "name": "python",
   "nbconvert_exporter": "python",
   "pygments_lexer": "ipython3",
   "version": "3.10.13"
  }
 },
 "nbformat": 4,
 "nbformat_minor": 2
}
