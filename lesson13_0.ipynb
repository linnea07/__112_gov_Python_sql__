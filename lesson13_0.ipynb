{
 "cells": [
  {
   "cell_type": "code",
   "execution_count": 3,
   "metadata": {},
   "outputs": [
    {
     "data": {
      "text/plain": [
       "True"
      ]
     },
     "execution_count": 3,
     "metadata": {},
     "output_type": "execute_result"
    }
   ],
   "source": [
    "from dotenv import load_dotenv\n",
    "load_dotenv()"
   ]
  },
  {
   "cell_type": "code",
   "execution_count": 7,
   "metadata": {},
   "outputs": [],
   "source": [
    "import psycopg2\n",
    "import os\n",
    "from psycopg2 import connect\n",
    "from dotenv import load_dotenv\n",
    "\n",
    "load_dotenv()\n",
    "\n",
    "\n",
    "conn:connect = psycopg2.connect(os.environ['POSTGRE_PASSWORD'])\n",
    "cur = conn.cursor()\n",
    "\n",
    "sql='''\n",
    "    CREATE TABLE IF NOT EXISTS student(\n",
    "        id SERIAL PRIMARY KEY,\n",
    "        name VARCHAR(20),\n",
    "        chinese SMALLINT,\n",
    "        english SMALLINT,\n",
    "        math SMALLINT\n",
    "    );\n",
    "'''\n",
    "\n",
    "cur.execute(sql)\n",
    "conn.commit()\n",
    "\n",
    "cur.close()\n",
    "conn.close()"
   ]
  },
  {
   "cell_type": "code",
   "execution_count": 6,
   "metadata": {},
   "outputs": [
    {
     "ename": "InterfaceError",
     "evalue": "cursor already closed",
     "output_type": "error",
     "traceback": [
      "\u001b[0;31m---------------------------------------------------------------------------\u001b[0m",
      "\u001b[0;31mInterfaceError\u001b[0m                            Traceback (most recent call last)",
      "Cell \u001b[0;32mIn[6], line 18\u001b[0m\n\u001b[1;32m     10\u001b[0m     \u001b[38;5;28;01mwith\u001b[39;00m conn\u001b[38;5;241m.\u001b[39mcursor() \u001b[38;5;28;01mas\u001b[39;00m cousor:\n\u001b[1;32m     11\u001b[0m         sql\u001b[38;5;241m=\u001b[39m\u001b[38;5;124m'''\u001b[39m\n\u001b[1;32m     12\u001b[0m \u001b[38;5;124m            SELECT name,chinese,english,math\u001b[39m\n\u001b[1;32m     13\u001b[0m \u001b[38;5;124m            form student\u001b[39m\n\u001b[1;32m     14\u001b[0m \u001b[38;5;124m        \u001b[39m\u001b[38;5;124m'''\u001b[39m\n\u001b[0;32m---> 18\u001b[0m \u001b[43mcousor\u001b[49m\u001b[38;5;241;43m.\u001b[39;49m\u001b[43mexecute\u001b[49m\u001b[43m(\u001b[49m\u001b[43msql\u001b[49m\u001b[43m)\u001b[49m\n\u001b[1;32m     19\u001b[0m datas:\u001b[38;5;28mlist\u001b[39m \u001b[38;5;241m=\u001b[39m cousor\u001b[38;5;241m.\u001b[39mfetchall(\u001b[38;5;241m10\u001b[39m)\n\u001b[1;32m     21\u001b[0m \u001b[38;5;28;01mfor\u001b[39;00m item \u001b[38;5;129;01min\u001b[39;00m datas:\n",
      "\u001b[0;31mInterfaceError\u001b[0m: cursor already closed"
     ]
    }
   ],
   "source": [
    "import psycopg2\n",
    "import os\n",
    "from psycopg2 import connect\n",
    "from dotenv import load_dotenv\n",
    "load_dotenv()\n",
    "\n",
    "conn = psycopg2.connect(os.environ['POSTGRE_PASSWORD'])\n",
    "\n",
    "with conn:\n",
    "    with conn.cursor() as cousor:\n",
    "        sql='''\n",
    "            SELECT name,chinese,english,math\n",
    "            form student\n",
    "        '''\n",
    "\n",
    "cousor.execute(sql)\n",
    "datas:list = cousor.fetchall(10)\n",
    "\n",
    "for item in datas:\n",
    "    print(item)\n",
    "\n",
    "\n",
    "# data:list[dict] = [\n",
    "#     {'name':'王國堂','chinese':89, 'english':75, 'math':92},\n",
    "#     {'name':'陳國堂','chinese':65, 'english':93, 'math':59},\n",
    "#     {'name':'邱國堂','chinese':71, 'english':64, 'math':92}\n",
    "# ]\n",
    "\n",
    "# for item in data :  \n",
    "#     cur.execute(sql,item)\n",
    "\n",
    "conn.commit()\n",
    "cur.close()\n",
    "conn.close()"
   ]
  },
  {
   "cell_type": "code",
   "execution_count": null,
   "metadata": {},
   "outputs": [],
   "source": []
  }
 ],
 "metadata": {
  "kernelspec": {
   "display_name": "myenv",
   "language": "python",
   "name": "python3"
  },
  "language_info": {
   "codemirror_mode": {
    "name": "ipython",
    "version": 3
   },
   "file_extension": ".py",
   "mimetype": "text/x-python",
   "name": "python",
   "nbconvert_exporter": "python",
   "pygments_lexer": "ipython3",
   "version": "3.12.2"
  }
 },
 "nbformat": 4,
 "nbformat_minor": 2
}
