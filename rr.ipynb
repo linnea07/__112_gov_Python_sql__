{
 "cells": [
  {
   "cell_type": "code",
   "execution_count": 1,
   "metadata": {},
   "outputs": [
    {
     "ename": "NameError",
     "evalue": "name 'i' is not defined",
     "output_type": "error",
     "traceback": [
      "\u001b[0;31m---------------------------------------------------------------------------\u001b[0m",
      "\u001b[0;31mNameError\u001b[0m                                 Traceback (most recent call last)",
      "Cell \u001b[0;32mIn[1], line 15\u001b[0m\n\u001b[1;32m      7\u001b[0m d \u001b[38;5;241m=\u001b[39m {\n\u001b[1;32m      8\u001b[0m     \u001b[38;5;124m'\u001b[39m\u001b[38;5;124mmessage\u001b[39m\u001b[38;5;124m'\u001b[39m: message,\n\u001b[1;32m      9\u001b[0m     \u001b[38;5;124m'\u001b[39m\u001b[38;5;124mstickerPackageId\u001b[39m\u001b[38;5;124m'\u001b[39m : \u001b[38;5;241m2\u001b[39m, \n\u001b[1;32m     10\u001b[0m     \u001b[38;5;124m'\u001b[39m\u001b[38;5;124mstickerId\u001b[39m\u001b[38;5;124m'\u001b[39m : \u001b[38;5;241m520\u001b[39m\n\u001b[1;32m     11\u001b[0m }\n\u001b[1;32m     13\u001b[0m h \u001b[38;5;241m=\u001b[39m { \u001b[38;5;124m'\u001b[39m\u001b[38;5;124mAuthorization\u001b[39m\u001b[38;5;124m'\u001b[39m : \u001b[38;5;124m\"\u001b[39m\u001b[38;5;124mBearer \u001b[39m\u001b[38;5;124m\"\u001b[39m \u001b[38;5;241m+\u001b[39m token }\n\u001b[0;32m---> 15\u001b[0m requests\u001b[38;5;241m.\u001b[39mpost(\u001b[38;5;124m\"\u001b[39m\u001b[38;5;124mhttps://notify-api.line.me/api/notify\u001b[39m\u001b[38;5;124m\"\u001b[39m, headers \u001b[38;5;241m=\u001b[39m h , data \u001b[38;5;241m=\u001b[39m d , files \u001b[38;5;241m=\u001b[39m\u001b[43mi\u001b[49m )\n",
      "\u001b[0;31mNameError\u001b[0m: name 'i' is not defined"
     ]
    }
   ],
   "source": [
    "import requests\n",
    "\n",
    "token='5f1zGg501YG1jFYzxuFUbQ6UtFfGMZcsAXMFr6e7CVP'\n",
    "\n",
    "message = '機器人測試'\n",
    "# d = { 'message' : message}\n",
    "d = {\n",
    "    'message': message,\n",
    "    'stickerPackageId' : 2, \n",
    "    'stickerId' : 520\n",
    "}\n",
    "\n",
    "h = { 'Authorization' : \"Bearer \" + token }\n",
    "\n",
    "requests.post(\"https://notify-api.line.me/api/notify\", headers = h , data = d , files =i )"
   ]
  }
 ],
 "metadata": {
  "kernelspec": {
   "display_name": "myenv",
   "language": "python",
   "name": "python3"
  },
  "language_info": {
   "codemirror_mode": {
    "name": "ipython",
    "version": 3
   },
   "file_extension": ".py",
   "mimetype": "text/x-python",
   "name": "python",
   "nbconvert_exporter": "python",
   "pygments_lexer": "ipython3",
   "version": "3.12.2"
  }
 },
 "nbformat": 4,
 "nbformat_minor": 2
}
